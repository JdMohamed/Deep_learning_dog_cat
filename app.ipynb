{
 "cells": [
  {
   "cell_type": "code",
   "execution_count": 83,
   "metadata": {},
   "outputs": [
    {
     "name": "stdout",
     "output_type": "stream",
     "text": [
      "(1000, 64, 64)\n",
      "(1000, 1)\n"
     ]
    },
    {
     "data": {
      "text/plain": [
       "array([[[164, 174, 163, ..., 144, 131, 134],\n",
       "        [162, 174, 182, ..., 143, 144, 128],\n",
       "        [158, 169, 187, ..., 158, 143, 151],\n",
       "        ...,\n",
       "        [175, 168, 166, ...,  91, 176, 173],\n",
       "        [167, 166, 166, ...,  45, 184, 124],\n",
       "        [176, 172, 168, ...,  87, 180,  39]],\n",
       "\n",
       "       [[ 42,  43,  39, ...,  47,  46,  42],\n",
       "        [ 38,  44,  42, ...,  40,  47,  42],\n",
       "        [ 45,  46,  36, ...,  43,  40,  38],\n",
       "        ...,\n",
       "        [ 87,  85,  70, ...,  75,  78,  82],\n",
       "        [ 70,  70,  71, ...,  52,  67,  68],\n",
       "        [ 64,  61,  60, ...,  55,  52,  55]],\n",
       "\n",
       "       [[ 27,  26,  29, ...,  84,  82,  84],\n",
       "        [ 29,  27,  28, ...,  89,  88,  89],\n",
       "        [ 28,  32,  27, ...,  88,  90,  86],\n",
       "        ...,\n",
       "        [101,  92,  17, ..., 112, 119, 123],\n",
       "        [173, 178, 175, ..., 141, 137, 138],\n",
       "        [ 10,  11,  26, ..., 135, 141, 121]],\n",
       "\n",
       "       ...,\n",
       "\n",
       "       [[ 47,  68, 142, ...,  39,  35,  33],\n",
       "        [ 55,  68, 159, ...,  54,  41,  44],\n",
       "        [ 58,  75, 141, ...,  40,  58,  63],\n",
       "        ...,\n",
       "        [163, 169, 167, ..., 206, 212, 207],\n",
       "        [168, 165, 167, ..., 209, 205, 198],\n",
       "        [167, 168, 167, ..., 202, 202, 203]],\n",
       "\n",
       "       [[252, 252, 252, ..., 158, 171, 173],\n",
       "        [252, 252, 252, ..., 151, 163, 166],\n",
       "        [252, 252, 252, ..., 142, 155, 164],\n",
       "        ...,\n",
       "        [215, 203, 185, ...,  52,  57,  67],\n",
       "        [209, 214, 204, ...,  66,  59,  58],\n",
       "        [200, 210, 222, ...,  64,  66,  59]],\n",
       "\n",
       "       [[122, 126, 130, ..., 123, 119, 119],\n",
       "        [126, 128, 128, ..., 120, 116, 112],\n",
       "        [127, 130, 129, ..., 124, 120, 112],\n",
       "        ...,\n",
       "        [164, 165, 167, ..., 164, 161, 161],\n",
       "        [163, 165, 167, ..., 163, 160, 160],\n",
       "        [163, 164, 165, ..., 161, 160, 160]]],\n",
       "      shape=(1000, 64, 64), dtype=uint8)"
      ]
     },
     "execution_count": 83,
     "metadata": {},
     "output_type": "execute_result"
    }
   ],
   "source": [
    "import numpy as np\n",
    "import matplotlib.pyplot as plt\n",
    "from utilities import load_data\n",
    "\n",
    "X_train,y_train,X_test,y_test = load_data()\n",
    "print(X_train.shape)\n",
    "print(y_train.shape)\n",
    "X_train"
   ]
  },
  {
   "cell_type": "code",
   "execution_count": 84,
   "metadata": {},
   "outputs": [
    {
     "data": {
      "text/plain": [
       "np.uint8(254)"
      ]
     },
     "execution_count": 84,
     "metadata": {},
     "output_type": "execute_result"
    }
   ],
   "source": [
    "X_train = X_train.reshape(X_train.shape[0],-1)\n",
    "X_test = X_test.reshape(X_test.shape[0],-1)\n",
    "X_train.max()"
   ]
  },
  {
   "cell_type": "code",
   "execution_count": 85,
   "metadata": {},
   "outputs": [
    {
     "data": {
      "text/plain": [
       "array([[0.18503937, 0.18503937, 0.2007874 , ..., 0.61023622, 0.61417323,\n",
       "        0.60629921],\n",
       "       [0.51181102, 0.58267717, 0.49212598, ..., 0.4488189 , 0.30314961,\n",
       "        0.46062992],\n",
       "       [0.8503937 , 0.52362205, 0.78740157, ..., 0.75984252, 0.65354331,\n",
       "        0.69685039],\n",
       "       ...,\n",
       "       [0.15748031, 0.2007874 , 0.78346457, ..., 0.53937008, 0.84251969,\n",
       "        0.49212598],\n",
       "       [0.81102362, 0.81102362, 0.81102362, ..., 0.44094488, 0.43700787,\n",
       "        0.40944882],\n",
       "       [0.43307087, 0.3976378 , 0.46062992, ..., 0.4015748 , 0.13385827,\n",
       "        0.21653543]], shape=(200, 4096))"
      ]
     },
     "execution_count": 85,
     "metadata": {},
     "output_type": "execute_result"
    }
   ],
   "source": [
    "from sklearn.preprocessing import StandardScaler\n",
    "\n",
    "scaler=StandardScaler()\n",
    "max = X_train.max()\n",
    "X_train = X_train / max\n",
    "X_test = X_test / max\n",
    "X_test\n",
    "\n"
   ]
  },
  {
   "cell_type": "code",
   "execution_count": 12,
   "metadata": {},
   "outputs": [],
   "source": [
    "def initialisation(X):\n",
    "    w = np.random.randn(X.shape[1],1)\n",
    "    b = np.random.randn(1)\n",
    "    return (w,b)"
   ]
  },
  {
   "cell_type": "code",
   "execution_count": 24,
   "metadata": {},
   "outputs": [],
   "source": [
    "W,b = initialisation(X_train)"
   ]
  },
  {
   "cell_type": "code",
   "execution_count": 54,
   "metadata": {},
   "outputs": [],
   "source": [
    "def model(X,W,b):\n",
    "    Z = np.dot(X,W) + b\n",
    "    # print(Z.min())\n",
    "    A = 1 / (1 + np.exp(-Z))\n",
    "    return A"
   ]
  },
  {
   "cell_type": "code",
   "execution_count": 29,
   "metadata": {},
   "outputs": [],
   "source": [
    "def log_loss(A,y):\n",
    "    epsilon = 1e-15\n",
    "    return 1 / len(y) * np.sum(-y * np.log(A + epsilon) - (1 - y) * np.log(1 - A + epsilon))"
   ]
  },
  {
   "cell_type": "code",
   "execution_count": 30,
   "metadata": {},
   "outputs": [],
   "source": [
    "loss = log_loss(A,y_train)"
   ]
  },
  {
   "cell_type": "code",
   "execution_count": 15,
   "metadata": {},
   "outputs": [],
   "source": [
    "def gradient(A,X,y):\n",
    "    dw = 1 / len(y) * np.dot(X.T , A - y)\n",
    "    db = 1 / len(y) * np.sum(A - y)\n",
    "    return (dw,db)"
   ]
  },
  {
   "cell_type": "code",
   "execution_count": 16,
   "metadata": {},
   "outputs": [],
   "source": [
    "def update(W,b,dw,db,learning_rate=0.1):\n",
    "    W = W - learning_rate * dw\n",
    "    b = b - learning_rate * db\n",
    "    return (W,b)\n"
   ]
  },
  {
   "cell_type": "code",
   "execution_count": 17,
   "metadata": {},
   "outputs": [],
   "source": [
    "def predict(X,w,b):\n",
    "    A = model(X,w,b)\n",
    "    return A >= 0.5"
   ]
  },
  {
   "cell_type": "code",
   "execution_count": 68,
   "metadata": {},
   "outputs": [],
   "source": [
    "from sklearn.metrics import accuracy_score\n",
    "from tqdm import tqdm"
   ]
  },
  {
   "cell_type": "code",
   "execution_count": 86,
   "metadata": {},
   "outputs": [],
   "source": [
    "def artificial_neuron(X_train,X_test,y_train,y_test,n_iter=100,learning_rate=0.1):\n",
    "    W,b = initialisation(X_train)\n",
    "\n",
    "    train_loss = []\n",
    "    train_acc = []\n",
    "    test_loss = []\n",
    "    test_acc = []\n",
    "\n",
    "    for i in tqdm(range(n_iter)):\n",
    "        A = model(X_train,W,b)\n",
    "\n",
    "        if i%10 == 0 :\n",
    "\n",
    "            train_loss.append(log_loss(A,y_train))\n",
    "            y_pred = predict(X_train,W,b)\n",
    "            train_acc.append(accuracy_score(y_train,y_pred))\n",
    "\n",
    "            A_test = model(X_test,W,b)\n",
    "            test_loss.append(log_loss(A_test,y_test))\n",
    "            y_pred = predict(X_test,W,b)\n",
    "            test_acc.append(accuracy_score(y_test,y_pred))\n",
    "\n",
    "        dw,db = gradient(A,X_train,y_train)\n",
    "        W,b = update(W,b,dw,db,learning_rate)\n",
    "    \n",
    "    plt.figure(figsize=(12,4))\n",
    "    plt.subplot(1,2,1)\n",
    "\n",
    "    plt.plot(train_loss , label='train loss')\n",
    "    plt.plot(test_loss , label='test loss')\n",
    "    plt.legend()\n",
    "    plt.subplot(1,2,2)\n",
    "    plt.plot(train_acc , label='train accuracy')\n",
    "    plt.plot(test_acc , label='test accuracy')\n",
    "    plt.show()\n",
    "\n",
    "    return (W,b)\n"
   ]
  },
  {
   "cell_type": "code",
   "execution_count": 88,
   "metadata": {},
   "outputs": [
    {
     "name": "stderr",
     "output_type": "stream",
     "text": [
      "100%|██████████| 1000/1000 [00:02<00:00, 400.15it/s]\n"
     ]
    },
    {
     "data": {
      "image/png": "[encoded data removed]",
      "text/plain": [
       "<Figure size 1200x400 with 2 Axes>"
      ]
     },
     "metadata": {},
     "output_type": "display_data"
    }
   ],
   "source": [
    "W,b = artificial_neuron(X_train,X_test,y_train,y_test,n_iter=1000,learning_rate=0.01)"
   ]
  },
  {
   "cell_type": "code",
   "execution_count": null,
   "metadata": {},
   "outputs": [],
   "source": []
  }
 ],
 "metadata": {
  "kernelspec": {
   "display_name": ".venv",
   "language": "python",
   "name": "python3"
  },
  "language_info": {
   "codemirror_mode": {
    "name": "ipython",
    "version": 3
   },
   "file_extension": ".py",
   "mimetype": "text/x-python",
   "name": "python",
   "nbconvert_exporter": "python",
   "pygments_lexer": "ipython3",
   "version": "3.12.0"
  }
 },
 "nbformat": 4,
 "nbformat_minor": 2
}
